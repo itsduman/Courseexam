{
 "cells": [
  {
   "cell_type": "markdown",
   "id": "9ff0ec3c",
   "metadata": {},
   "source": [
    "# Data Science Tools and Ecosystem"
   ]
  },
  {
   "cell_type": "markdown",
   "id": "ef177eb4",
   "metadata": {},
   "source": [
    "In this notebook, Data Science Tools and Ecosystem are summarized."
   ]
  },
  {
   "cell_type": "markdown",
   "id": "27ab54d3",
   "metadata": {},
   "source": [
    "# Objectives:\n",
    "+ List popular languages for Data Science.\n",
    "+ commonly used libraries by Data Scientists\n",
    "+ Data Science Tools"
   ]
  },
  {
   "cell_type": "markdown",
   "id": "61bba83d",
   "metadata": {},
   "source": [
    "Some of the popular languages that Data Scientists use are:\n",
    "* R\n",
    "* Python\n",
    "* Java\n",
    "* JavaScript\n",
    "* Html/css"
   ]
  },
  {
   "cell_type": "markdown",
   "id": "a6c2845b",
   "metadata": {},
   "source": [
    "Some of the commonly used libraries used by Data Scientists include:\n",
    "+ Numpy\n",
    "+ Pandas\n",
    "+ Pytorch\n",
    "+ TensorFlow"
   ]
  },
  {
   "cell_type": "markdown",
   "id": "7257aa29",
   "metadata": {},
   "source": [
    "Data Science Tools\n",
    "- Anaconda\n",
    "- Rstudio\n",
    "- Jupyter\n",
    "- AWS"
   ]
  },
  {
   "cell_type": "markdown",
   "id": "121fa944",
   "metadata": {},
   "source": [
    "### Below are a few examples of evaluating arithmetic expressions in Python:"
   ]
  },
  {
   "cell_type": "code",
   "execution_count": 1,
   "id": "1c32e30a",
   "metadata": {},
   "outputs": [
    {
     "data": {
      "text/plain": [
       "17"
      ]
     },
     "execution_count": 1,
     "metadata": {},
     "output_type": "execute_result"
    }
   ],
   "source": [
    "(3*4)+5\n",
    "#This a simple arithmetic expression to mutiply then add integers."
   ]
  },
  {
   "cell_type": "code",
   "execution_count": 2,
   "id": "49503eed",
   "metadata": {},
   "outputs": [
    {
     "name": "stdout",
     "output_type": "stream",
     "text": [
      "200 min is equal 3.3333333333333335 hour\n"
     ]
    }
   ],
   "source": [
    "Hour = 200/60\n",
    "print(\"200 min is equal\",Hour,\"hour\")\n",
    "#This will convert 200 minutes to hours by diving by 60."
   ]
  },
  {
   "cell_type": "markdown",
   "id": "62ccb05e",
   "metadata": {},
   "source": [
    "## Author\n",
    "Ali Moradian"
   ]
  }
 ],
 "metadata": {
  "kernelspec": {
   "display_name": "Python 3 (ipykernel)",
   "language": "python",
   "name": "python3"
  },
  "language_info": {
   "codemirror_mode": {
    "name": "ipython",
    "version": 3
   },
   "file_extension": ".py",
   "mimetype": "text/x-python",
   "name": "python",
   "nbconvert_exporter": "python",
   "pygments_lexer": "ipython3",
   "version": "3.11.5"
  }
 },
 "nbformat": 4,
 "nbformat_minor": 5
}
